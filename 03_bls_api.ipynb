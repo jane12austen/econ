{
  "metadata": {
    "kernelspec": {
      "name": "python",
      "display_name": "Python (Pyodide)",
      "language": "python"
    },
    "language_info": {
      "codemirror_mode": {
        "name": "ipython",
        "version": 3
      },
      "file_extension": ".py",
      "mimetype": "text/x-python",
      "name": "python",
      "nbconvert_exporter": "python",
      "pygments_lexer": "ipython3",
      "version": "3.10.9"
    }
  },
  "nbformat_minor": 4,
  "nbformat": 4,
  "cells": [
    {
      "cell_type": "markdown",
      "source": "# BLS API\n\n**Prerequisites**\n\n- APIs\n\n**Outcomes**\n\n- Register for an API key to access data from US Bureau of Labor Statistics (BLS)\n- Write Python code that integrates with the BLS API\n- Construct a dataset of unemployment data as reporeted by the BLS\n\n**Data**\n\n- All data from monthly unemployment reports from US Bureau of Labor Statistics\n",
      "metadata": {
        "slideshow": {
          "slide_type": "slide"
        }
      }
    },
    {
      "cell_type": "markdown",
      "source": "## The BLS API\n\nThe US Bureau of Labor statistics collects data on employment statistics for the US\n\nThey provide this data to the public via an API\n\nThe data is available without the need for an API key\n\nHowever, if we supply an API key we can get additional information in the response",
      "metadata": {
        "slideshow": {
          "slide_type": "slide"
        }
      }
    },
    {
      "cell_type": "markdown",
      "source": "## Registering for an API key\n\nLet's open the [landing page](https://www.bls.gov/developers/) for the BLS API\n\nWhile there we will look for how to request an API key\n\nOnce we recieve the API key via email, we will store it somewhere safe \n\nTreat it like a password -- in the world of APIs that's what it is!",
      "metadata": {
        "slideshow": {
          "slide_type": "slide"
        }
      }
    },
    {
      "cell_type": "markdown",
      "source": "## Building the request\n\nWe now need to use the API documentation to learn how to build a request\n\nRecall that a request has the following components:\n\n- Endpoint\n- Request type\n- Query Parameters\n- Payload\n- Headers\n- Authentication\n\n",
      "metadata": {
        "slideshow": {
          "slide_type": "slide"
        }
      }
    },
    {
      "cell_type": "markdown",
      "source": "We'll find these one at a time below",
      "metadata": {
        "slideshow": {
          "slide_type": "fragment"
        }
      }
    },
    {
      "cell_type": "markdown",
      "source": "### Endpoint\n\nLet's go to the API documentation\n\nOur goal here is to find the endpoint where we can access the data\n\nWe find the docs by clicking the [\"BLS API Signatures\"](https://www.bls.gov/developers/api_signature_v2.htm) link on the [landing page](https://www.bls.gov/developers/)",
      "metadata": {
        "slideshow": {
          "slide_type": "subslide"
        }
      }
    },
    {
      "cell_type": "markdown",
      "source": "As shown in the docs, our endpoint is `https://api.bls.gov/publicAPI/v2/timeseries/data`",
      "metadata": {
        "slideshow": {
          "slide_type": "fragment"
        }
      }
    },
    {
      "cell_type": "markdown",
      "source": "### Request Type and Query Parameters\n\nLet's find the request type\n\nThe docs say \n\n> \"HTTP Type: POST\", \n\nmeaning we need to use a `POST` request\n\nWe can specify all information in the *body* of the request, so no query parameters are needed",
      "metadata": {
        "slideshow": {
          "slide_type": "subslide"
        }
      }
    },
    {
      "cell_type": "markdown",
      "source": "###  Payload\n\nThe docs indicate the structure of the payload\n\nThey say\n\n```json\n{\n    \"seriesid\":[\"Series1\",..., \"SeriesN\"],\n    \"startyear\":\"yearX\", \n    \"endyear\":\"yearY\",\n    \"catalog\":true|false,\n    \"calculations\":true|false,\n    \"annualaverage\":true|false,\n    \"aspects\":true|false,\n    \"registrationkey\":\"995f4e779f204473aa565256e8afe73e\"\n}\n```\n\nThe required parameters are `seriesid`, `startyear`, and `endyear`\n\nWe will also pass `catalog: true` so we can get extra information about each variable",
      "metadata": {
        "slideshow": {
          "slide_type": "subslide"
        }
      }
    },
    {
      "cell_type": "markdown",
      "source": "### Headers\n\nThe only header we need in our request is `\"Content-Type\": \"application/json\"`\n\nThis tells the api provider that the payload or body is JSON\n\n> Note: recall JSON is web-speak for a Python dict",
      "metadata": {
        "slideshow": {
          "slide_type": "subslide"
        }
      }
    },
    {
      "cell_type": "markdown",
      "source": "### Authentication\n\nTo identify ourselves to the API provider, we use our API key\n\nAs noted in the payload section above, we set the `registrationkey` field in our payload to the API Key",
      "metadata": {
        "slideshow": {
          "slide_type": "subslide"
        }
      }
    },
    {
      "cell_type": "markdown",
      "source": "### Summary\n\nLet's summarize:\n\n- We will make `POST` requests to `https://api.bls.gov/publicAPI/v2/timeseries/data/`\n- We don't have any query parameters\n- We pass `registrationkey`, `seriesid`, `startyear`, `endyear`, and `catalog` in the payload\n- And we set headers to `{\"Content-Type\": \"application/json\"}` note our payload is JSON",
      "metadata": {
        "slideshow": {
          "slide_type": "subslide"
        }
      }
    },
    {
      "cell_type": "markdown",
      "source": "## Python requests\n\nLet's give it a shot!\n\nWe'll use the python `requests` package to make the HTTP requests",
      "metadata": {
        "slideshow": {
          "slide_type": "slide"
        }
      }
    },
    {
      "cell_type": "code",
      "source": "import requests\nimport json\nimport pandas as pd\nfrom typing import List, Union, Optional\n\ntry:\n    from pyodide_http import patch_all\n    patch_all()\nexcept:\n    pass",
      "metadata": {},
      "execution_count": null,
      "outputs": []
    },
    {
      "cell_type": "markdown",
      "source": "### Making the request\n\nBelow we define a Python function that makes the request\n\nLet's study it together",
      "metadata": {
        "slideshow": {
          "slide_type": "subslide"
        }
      }
    },
    {
      "cell_type": "code",
      "source": "def request_for_series(\n        series_ids: List[str], \n        startyear: Union[int,str], \n        endyear: Union[int,str],\n        apikey:Optional[str]=None,\n    ):\n    \"\"\"\n    Request data for all ``series_ids`` between ``startyear`` and ``endyear``\n    \n    Parameters\n    ----------\n    series_ids: List[str]\n        A list of all BLS series IDs for which to request data\n    \n    startyear, endyear: Union[int,str]\n        Starting and ending years for period of data. All intervals between\n        these two years (inclusive) will be reported\n    \n    apikey: Optional[str]\n        A registration or API key to enable more extensive use of the\n        api and more detailed results\n    \n    Returns\n    -------\n    responses: List[requests.Response]\n        A list of `Response` objects from the requests library\n    \n    Notes\n    -----\n    The BLS API only allows 25 series to be requested in a single call to the API\n    This function allows an arbitrary number of series. The function first checks how \n    many series_ids are reuqested, and then makes two recursive calls to this function:\n    (1) the first 25 series IDs are fetched and (2) the rest of the series ids. If the\n    second request contains more than 25 series, another split is made and a pair of \n    recursive function calls are issued.\n    \n    Also note that the response objects from ``requests`` are not processed or validated\n    in any way -- this is up to the caller of this routine.\n    \n    Finally, if an apikey is given, then a catalog of series metadata will be requested\n    and returned from this function. This is necessary for getting the metadata DataFrame\n    from the functions ``make_dfs_from_series``, ``unpack_response``, and \n    ``unpack_all_responses`` functions below.\n    \"\"\"\n    n_series = len(series_ids)\n    if n_series > 25:\n        parts = []\n        # make common keyword arguments so we don't have to type twice below\n        kw = dict(endyear=endyear, startyear=startyear, apikey=apikey)\n        parts.extend(request_for_series(series_ids[:25], **kw))\n        parts.extend(request_for_series(series_ids[25:], **kw))\n        return parts\n    else:\n        headers = {'Content-type': 'application/json'}\n        params = {\n            \"seriesid\": series_ids, \n            \"startyear\":startyear, \n            \"endyear\": endyear,\n        }\n        if apikey is not None:\n            params[\"catalog\"] = True\n            params[\"registrationkey\"] = apikey\n        \n        # convert params dictionary to json string\n        data = json.dumps(params)\n        p = requests.post('https://api.bls.gov/publicAPI/v2/timeseries/data/', data=data, headers=headers)\n        return [p]",
      "metadata": {},
      "execution_count": null,
      "outputs": []
    },
    {
      "cell_type": "markdown",
      "source": "Let's make a request",
      "metadata": {
        "slideshow": {
          "slide_type": "subslide"
        }
      }
    },
    {
      "cell_type": "code",
      "source": "# These lines are to keep my api key private, they likely won't work for you!\n# you should replace right hand side of `apikey = ` with a string containing\n# your api key!\nimport os\napikey = os.environ.get(\"BLS_KEY\", None)\n\n# make the request\nresponses = request_for_series([\"LAUCN040010000000005\"], 2010, 2022, apikey)",
      "metadata": {},
      "execution_count": null,
      "outputs": []
    },
    {
      "cell_type": "code",
      "source": "type(responses[0])",
      "metadata": {},
      "execution_count": null,
      "outputs": []
    },
    {
      "cell_type": "markdown",
      "source": "### Validate responses\n\nOur `request_for_series` function will make the `POST` requests and return a list of responses\n\nIt does not, however, check to see if the requests were successful\n\nWe'll now write some code to verify that requests were successful",
      "metadata": {
        "slideshow": {
          "slide_type": "subslide"
        }
      }
    },
    {
      "cell_type": "markdown",
      "source": "#### HTTP codes\n\nPart of the HTTP standard is that a response will include an integer that is the response code\n\nCodes are three digits\n\nSuccessful resposnes are between 200 and 299\n\nThe next function checks that the request code is no more than 299",
      "metadata": {
        "slideshow": {
          "slide_type": "subslide"
        }
      }
    },
    {
      "cell_type": "code",
      "source": "def check_response(res: requests.Response):\n    \"\"\"\n    Check a response from the BLS API for success\n    \n    Parameters\n    ----------\n    res: requests.Response\n        The requests object returned from iteracting with BLS API\n        \n    Notes\n    -----\n    Right now we just check for success at the http protocol level\n    and don't do any checking specific to the BLS api\n    \"\"\"\n    code = res.status_code\n    if code > 299:\n        raise ValueError(f\"Response error with code {code}\")",
      "metadata": {
        "slideshow": {
          "slide_type": "subslide"
        }
      },
      "execution_count": null,
      "outputs": []
    },
    {
      "cell_type": "markdown",
      "source": "We can apply our function to the response we recieved",
      "metadata": {
        "slideshow": {
          "slide_type": "subslide"
        }
      }
    },
    {
      "cell_type": "code",
      "source": "check_response(responses[0])",
      "metadata": {},
      "execution_count": null,
      "outputs": []
    },
    {
      "cell_type": "markdown",
      "source": "It did not return or do anything, which is great!\n\nThe function would have raised an error if there was a problem",
      "metadata": {}
    },
    {
      "cell_type": "markdown",
      "source": "### Unpacking the data\n\nLet's take a closer look at the data that was returned to us\n\nThe `requests.Response` type has a `.content` field that includes the data returned from the API provider:",
      "metadata": {
        "slideshow": {
          "slide_type": "subslide"
        }
      }
    },
    {
      "cell_type": "code",
      "source": "responses[0].headers",
      "metadata": {},
      "execution_count": null,
      "outputs": []
    },
    {
      "cell_type": "code",
      "source": "responses[0].content ",
      "metadata": {},
      "execution_count": null,
      "outputs": []
    },
    {
      "cell_type": "markdown",
      "source": "It appears that this is JSON\n\nWe can call the `.json()` method to have `requests` read the `content` into a dict",
      "metadata": {
        "slideshow": {
          "slide_type": "subslide"
        }
      }
    },
    {
      "cell_type": "code",
      "source": "js = responses[0].json()\njs",
      "metadata": {},
      "execution_count": null,
      "outputs": []
    },
    {
      "cell_type": "markdown",
      "source": "Notice the structure of the response:\n\n```json\n{\n    'status': 'REQUEST_SUCCEEDED',\n    'responseTime': 190,\n    'message': [],\n    'Results': {\n        'series': [\n            {\n                'seriesID': 'LAUCN040010000000005',\n                'catalog': {\n                    'series_title': 'Employment: Apache County, AZ (U)',\n                    'series_id': 'LAUCN040010000000005',\n                    ...\n                },\n                'data': [\n                    ...\n                ]\n            }\n        ]\n\n    }\n}\n```\n\n",
      "metadata": {
        "slideshow": {
          "slide_type": "subslide"
        }
      }
    },
    {
      "cell_type": "markdown",
      "source": "A few points:\n\n- The results are in `js[\"Results\"][\"series\"]`\n- This contains a list of dictionaries, each one having\n    - `seriesID`: BLS ID for series\n    - `catalog`: more information about the series (only if you used a valid apikey)\n    - `data`: a list of dictionaries with actual data",
      "metadata": {
        "slideshow": {
          "slide_type": "subslide"
        }
      }
    },
    {
      "cell_type": "markdown",
      "source": "We'll need a Python function to operate on one of these series results\n\nWe'd like it to return a DataFrame with data and Series with metadata",
      "metadata": {
        "slideshow": {
          "slide_type": "fragment"
        }
      }
    },
    {
      "cell_type": "code",
      "source": "def make_dfs_from_series(series_results):\n    \"\"\"\n    Unpack a series response object into data and metadata pandas objects\n    \n    Parameters\n    ----------\n    series_results: dict\n        A dictionary returned from the `timeseries/data` endpoint of the\n        BLS api. An example object for this parameter would be found at\n        ``res.json()[\"Results\"][\"series\"][0]`` where ``res`` is the \n        ``requests.Response`` obtained from interacting with the API endpoint.\n    \n    Returns\n    -------\n    data: pd.DataFrame\n        A pandas DataFrame containing the actual observations of the data series\n    \n    metadata: Optional[pd.Series]\n        If the ``\"catgalog\"`` key exists in ``series_results``, then ``metadata``\n        is a pandas Series containing the catalog information. If ``\"catalog\"``\n        is found, then this is None    \n    \"\"\"\n    series_id = series_results[\"seriesID\"]\n    data = pd.DataFrame(series_results[\"data\"]).assign(series_id=series_id)\n    if \"catalog\" in series_results:\n        metadata = pd.Series(series_results[\"catalog\"])\n    else:\n        metadata = None\n    return data, metadata",
      "metadata": {
        "slideshow": {
          "slide_type": "subslide"
        }
      },
      "execution_count": null,
      "outputs": []
    },
    {
      "cell_type": "markdown",
      "source": "Let's test it out!",
      "metadata": {
        "slideshow": {
          "slide_type": "subslide"
        }
      }
    },
    {
      "cell_type": "code",
      "source": "data, meta = make_dfs_from_series(js[\"Results\"][\"series\"][0])\ndata",
      "metadata": {},
      "execution_count": null,
      "outputs": []
    },
    {
      "cell_type": "code",
      "source": "meta",
      "metadata": {},
      "execution_count": null,
      "outputs": []
    },
    {
      "cell_type": "markdown",
      "source": "### Many DataFrames\n\nWe're getting closer!\n\nNotice how the `js[\"Results\"][\"series\"]` was a list?\n\nThere will be one of the series results per series requested from the API\n\nWe need a function to take a single request `Response` and process the whole list of series data inside",
      "metadata": {
        "slideshow": {
          "slide_type": "subslide"
        }
      }
    },
    {
      "cell_type": "code",
      "source": "def unpack_response(res: requests.Response):\n    \"\"\"\n    Unpack the response for requesting one or more timeseries \n    from the BLS api\n    \n    Parameters\n    ----------\n    res: requests.Response\n        The object returned from interacting with the ``timeseries/data``\n        BLS API endpoint via the reuqests library\n    \n    Returns\n    -------\n    datasets: List[Tuple[pd.DataFrame, pd.Series]]\n        For each BLS series contained in ``res``, a tuple with the \n        timeseries observations and series metadata will be returned.\n        The observations are a pandas DataFrame and the metadata is a\n        pandas Series. These pairs of (data, metadata) are returned\n        in a list\n    \n    See Also\n    --------\n    See ``make_dfs_from_series`` for more information on content\n    of output.\n    \"\"\"\n    js = res.json()\n    return list(map(make_dfs_from_series, js[\"Results\"][\"series\"]))",
      "metadata": {
        "slideshow": {
          "slide_type": "subslide"
        }
      },
      "execution_count": null,
      "outputs": []
    },
    {
      "cell_type": "markdown",
      "source": "Let's test it out",
      "metadata": {
        "slideshow": {
          "slide_type": "subslide"
        }
      }
    },
    {
      "cell_type": "code",
      "source": "parsed = unpack_response(responses[0])\nprint(f\"Parsed is a {type(parsed)}\")\nprint(f\"Parsed has len: {len(parsed)}\")",
      "metadata": {},
      "execution_count": null,
      "outputs": []
    },
    {
      "cell_type": "code",
      "source": "type(parsed[0])",
      "metadata": {},
      "execution_count": null,
      "outputs": []
    },
    {
      "cell_type": "code",
      "source": "parsed[0][0]",
      "metadata": {},
      "execution_count": null,
      "outputs": []
    },
    {
      "cell_type": "code",
      "source": "parsed[0][1]",
      "metadata": {},
      "execution_count": null,
      "outputs": []
    },
    {
      "cell_type": "markdown",
      "source": "### Many responses\n\nOn to the last step...\n\nThe `request_for_series` function returns a list of `Response`s\n\nIf we pass more than 25 series ids, this list will have more than one item\n\nWe need to unpack all the responses, then concatenate the DataFrames and metadata Series",
      "metadata": {
        "slideshow": {
          "slide_type": "subslide"
        }
      }
    },
    {
      "cell_type": "code",
      "source": "def unpack_all_responses(all_res: List[requests.Response]):\n    \"\"\"\n    Given a list of responses from the BLS API, extract and \n    return all data and metadata\n    \n    Parameters\n    ----------\n    all_res: List[requests.Response])\n        Each item in this list is the result of using ``requests`` to \n        fetch data from ``timeseries/data`` endpoint of the BLS API.\n        \n    Returns\n    -------\n    data: pd.DataFrame\n        A pandas DataFrame containing all timeseries observations included\n        in any of the responses in ``all_res``\n    \n    metadata: pd.DataFrame\n        Detailed metadata about each series, if such metadata exists in the\n        response objects\n    \n    See Also\n    --------\n    See ``unpack_response`` and ``make_dfs_from_series`` functions\n        \n    \"\"\"\n    unpacked = []\n    for res in all_res:\n        unpacked.extend(unpack_response(res))\n    \n    data_dfs, metadata_series = list(zip(*unpacked))\n    data = pd.concat(data_dfs, ignore_index=True)\n    metadata = pd.concat([x for x in metadata_series if x is not None], axis=1).T\n    return data, metadata",
      "metadata": {
        "slideshow": {
          "slide_type": "subslide"
        }
      },
      "execution_count": null,
      "outputs": []
    },
    {
      "cell_type": "markdown",
      "source": "## Unemployment Data\n\nWith our functions in place, it is time to get the data for our analysis!\n\nBelow we have a list of all series IDs from the BLS report on national unemployment\n\nThere are 108 total series\n\nWe'll request them all",
      "metadata": {
        "slideshow": {
          "slide_type": "slide"
        }
      }
    },
    {
      "cell_type": "code",
      "source": "# all series ids from the BLS unemployment report...\nseries_ids = [\n    \"LNU02000000\",\n    \"LNU02000001\",\n    \"LNU02000002\",\n    \"LNS12000000\",\n    \"LNS12000001\",\n    \"LNS12000002\",\n    \"LNU07000000\",\n    \"LNU07000001\",\n    \"LNU07000002\",\n    \"LNS17000000\",\n    \"LNS17000001\",\n    \"LNS17000002\",\n    \"LNU07100000\",\n    \"LNU07100001\",\n    \"LNU07100002\",\n    \"LNS17100000\",\n    \"LNS17100001\",\n    \"LNS17100002\",\n    \"LNU07200000\",\n    \"LNU07200001\",\n    \"LNU07200002\",\n    \"LNS17200000\",\n    \"LNS17200001\",\n    \"LNS17200002\",\n    \"LNU07300000\",\n    \"LNU07300001\",\n    \"LNU07300002\",\n    \"LNS17300000\",\n    \"LNS17300001\",\n    \"LNS17300002\",\n    \"LNU03000000\",\n    \"LNU03000001\",\n    \"LNU03000002\",\n    \"LNS13000000\",\n    \"LNS13000001\",\n    \"LNS13000002\",\n    \"LNU07400000\",\n    \"LNU07400001\",\n    \"LNU07400002\",\n    \"LNS17400000\",\n    \"LNS17400001\",\n    \"LNS17400002\",\n    \"LNU07500000\",\n    \"LNU07500001\",\n    \"LNU07500002\",\n    \"LNS17500000\",\n    \"LNS17500001\",\n    \"LNS17500002\",\n    \"LNU07600000\",\n    \"LNU07600001\",\n    \"LNU07600002\",\n    \"LNS17600000\",\n    \"LNS17600001\",\n    \"LNS17600002\",\n    \"LNU07700000\",\n    \"LNU07700001\",\n    \"LNU07700002\",\n    \"LNS17700000\",\n    \"LNS17700001\",\n    \"LNS17700002\",\n    \"LNU05000000\",\n    \"LNU05000001\",\n    \"LNU05000002\",\n    \"LNS15000000\",\n    \"LNS15000001\",\n    \"LNS15000002\",\n    \"LNU07800000\",\n    \"LNU07800001\",\n    \"LNU07800002\",\n    \"LNS17800000\",\n    \"LNS17800001\",\n    \"LNS17800002\",\n    \"LNU07900000\",\n    \"LNU07900001\",\n    \"LNU07900002\",\n    \"LNS17900000\",\n    \"LNS17900001\",\n    \"LNS17900002\",\n    \"LNU08000000\",\n    \"LNU08000001\",\n    \"LNU08000002\",\n    \"LNS18000000\",\n    \"LNS18000001\",\n    \"LNS18000002\",\n    \"LNU08100000\",\n    \"LNU08100001\",\n    \"LNU08100002\",\n    \"LNS18100000\",\n    \"LNS18100001\",\n    \"LNS18100002\",\n    \"LNU08200000\",\n    \"LNU08200001\",\n    \"LNU08200002\",\n    \"LNS18200000\",\n    \"LNS18200001\",\n    \"LNS18200002\",\n    \"LNU08300000\",\n    \"LNU08300001\",\n    \"LNU08300002\",\n    \"LNS18300000\",\n    \"LNS18300001\",\n    \"LNS18300002\",\n    \"LNU08400000\",\n    \"LNU08400001\",\n    \"LNU08400002\",\n    \"LNS18400000\",\n    \"LNS18400001\",\n    \"LNS18400002\",\n]\n\n# make requests, get responses\nresponses = request_for_series(series_ids, \"2002\", \"2021\", apikey=apikey)\n\n# validate the responses\n[check_response(r) for r in responses]\n\n# extract data and metadata from responses\ndf, metadata = unpack_all_responses(responses)",
      "metadata": {
        "slideshow": {
          "slide_type": "subslide"
        }
      },
      "execution_count": null,
      "outputs": []
    },
    {
      "cell_type": "markdown",
      "source": "Let's see what we have",
      "metadata": {
        "slideshow": {
          "slide_type": "subslide"
        }
      }
    },
    {
      "cell_type": "code",
      "source": "df[\"year\"].unique()",
      "metadata": {},
      "execution_count": null,
      "outputs": []
    },
    {
      "cell_type": "code",
      "source": "metadata",
      "metadata": {},
      "execution_count": null,
      "outputs": []
    },
    {
      "cell_type": "markdown",
      "source": "And save the data for later usage",
      "metadata": {
        "slideshow": {
          "slide_type": "subslide"
        }
      }
    },
    {
      "cell_type": "code",
      "source": "metadata.to_csv(\"bls_metadta.csv\", index=False)",
      "metadata": {},
      "execution_count": null,
      "outputs": []
    },
    {
      "cell_type": "code",
      "source": "df.drop([\"footnotes\"], axis=1).to_csv(\"bls_data.csv\", index=False)",
      "metadata": {},
      "execution_count": null,
      "outputs": []
    },
    {
      "cell_type": "code",
      "source": "",
      "metadata": {},
      "execution_count": null,
      "outputs": []
    }
  ]
}